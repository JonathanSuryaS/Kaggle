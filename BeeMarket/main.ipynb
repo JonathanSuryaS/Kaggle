{
 "cells": [
  {
   "cell_type": "markdown",
   "metadata": {},
   "source": [
    "# Libraries"
   ]
  },
  {
   "cell_type": "code",
   "execution_count": 2,
   "metadata": {},
   "outputs": [],
   "source": [
    "import numpy as np\n",
    "import pandas as pd\n",
    "import seaborn as sns\n",
    "import matplotlib.pyplot as plt\n",
    "import plotly.express as px\n",
    "import plotly.graph_objects as go"
   ]
  },
  {
   "cell_type": "markdown",
   "metadata": {},
   "source": [
    "# Data"
   ]
  },
  {
   "cell_type": "code",
   "execution_count": 5,
   "metadata": {},
   "outputs": [
    {
     "data": {
      "text/html": [
       "<div>\n",
       "<style scoped>\n",
       "    .dataframe tbody tr th:only-of-type {\n",
       "        vertical-align: middle;\n",
       "    }\n",
       "\n",
       "    .dataframe tbody tr th {\n",
       "        vertical-align: top;\n",
       "    }\n",
       "\n",
       "    .dataframe thead th {\n",
       "        text-align: right;\n",
       "    }\n",
       "</style>\n",
       "<table border=\"1\" class=\"dataframe\">\n",
       "  <thead>\n",
       "    <tr style=\"text-align: right;\">\n",
       "      <th></th>\n",
       "      <th>Timestamp</th>\n",
       "      <th>Berapa usia anda sekarang?</th>\n",
       "      <th>Apakah anda masih memiliki ketertarikan di bidang game?</th>\n",
       "      <th>Apakah menurut anda gaming gear penting dalam bermain game (Keyboard, Headset, Mouse, dll)</th>\n",
       "      <th>Menurut anda seberapa penting gaming gear dalam bermain game?</th>\n",
       "      <th>Seberapa sering Anda berbelanja online untuk gaming gear?</th>\n",
       "      <th>Apakah anda pernah mengalami kesulitan saat mencari gaming gear sesuai kebutuhan anda</th>\n",
       "      <th>Menurut anda jika iya, apa alasan anda kesulitan dalam mencari gaming gear?</th>\n",
       "      <th>Apakah anda memilih berbelanja gaming gear secara online atau offline (tatap muka)</th>\n",
       "      <th>Platform gaming yang paling sering digunakan?</th>\n",
       "      <th>Jenis gaming gear yang paling sering anda beli?</th>\n",
       "      <th>Apa yang menjadi nilai utama dalam mencari gaming gear?</th>\n",
       "      <th>Jika ada aplikasi serupa yang menawarkan solusi permasalahan diatas, apakah anda ingin menggunakannya?</th>\n",
       "      <th>Apa fitur yang anda harapkan dari aplikasi ini?</th>\n",
       "      <th>Apakah Anda bersedia berpartisipasi dalam komunitas online (forum, grup diskusi)?</th>\n",
       "      <th>Platform mana yang lebih nyaman untuk anda gunakan?</th>\n",
       "      <th>Seberapa penting fitur review bagi anda dalam mengambil keputusan pembelian?</th>\n",
       "      <th>Apakah ada saran atau masukan bagi aplikasi kami?</th>\n",
       "    </tr>\n",
       "  </thead>\n",
       "  <tbody>\n",
       "    <tr>\n",
       "      <th>0</th>\n",
       "      <td>2024/09/19 11:33:26 PM GMT+7</td>\n",
       "      <td>11-20</td>\n",
       "      <td>Ya</td>\n",
       "      <td>Ya</td>\n",
       "      <td>4</td>\n",
       "      <td>Jarang</td>\n",
       "      <td>Tidak</td>\n",
       "      <td>NaN</td>\n",
       "      <td>Online</td>\n",
       "      <td>Personal Computer (PC);Laptop;Console (Xbox, P...</td>\n",
       "      <td>Mouse;Controller</td>\n",
       "      <td>Kualitas;Harga</td>\n",
       "      <td>Ya</td>\n",
       "      <td>Forum;Live Chat</td>\n",
       "      <td>Ya</td>\n",
       "      <td>Web Based</td>\n",
       "      <td>6</td>\n",
       "      <td>Keep up the good work.</td>\n",
       "    </tr>\n",
       "    <tr>\n",
       "      <th>1</th>\n",
       "      <td>2024/09/19 11:33:27 PM GMT+7</td>\n",
       "      <td>11-20</td>\n",
       "      <td>Ya</td>\n",
       "      <td>Ya</td>\n",
       "      <td>5</td>\n",
       "      <td>Kadang-kadang</td>\n",
       "      <td>Ya</td>\n",
       "      <td>Harga;Kualitas;Keaslian Produk</td>\n",
       "      <td>Online</td>\n",
       "      <td>Personal Computer (PC)</td>\n",
       "      <td>Keyboard;Mouse;Accessories (Mouse Pad, Cover K...</td>\n",
       "      <td>Kualitas;Harga</td>\n",
       "      <td>Ya</td>\n",
       "      <td>Rekomendasi berbasis AI;Live Chat</td>\n",
       "      <td>Ya</td>\n",
       "      <td>Mobile Apps</td>\n",
       "      <td>6</td>\n",
       "      <td>NaN</td>\n",
       "    </tr>\n",
       "    <tr>\n",
       "      <th>2</th>\n",
       "      <td>2024/09/19 11:42:13 PM GMT+7</td>\n",
       "      <td>21-30</td>\n",
       "      <td>Ya</td>\n",
       "      <td>Ya</td>\n",
       "      <td>6</td>\n",
       "      <td>Kadang-kadang</td>\n",
       "      <td>Ya</td>\n",
       "      <td>Harga;Kualitas;Stock;Keaslian Produk;Contoh Pr...</td>\n",
       "      <td>Offline</td>\n",
       "      <td>Laptop;Mobile (Handphone)</td>\n",
       "      <td>Keyboard;Mouse;Headset;Accessories (Mouse Pad,...</td>\n",
       "      <td>Gambar;Kualitas;Harga</td>\n",
       "      <td>Ya</td>\n",
       "      <td>Forum;Rekomendasi berbasis AI;Live Chat</td>\n",
       "      <td>Ya</td>\n",
       "      <td>Web Based</td>\n",
       "      <td>6</td>\n",
       "      <td>Tidak ada</td>\n",
       "    </tr>\n",
       "    <tr>\n",
       "      <th>3</th>\n",
       "      <td>2024/09/19 11:48:56 PM GMT+7</td>\n",
       "      <td>11-20</td>\n",
       "      <td>Ya</td>\n",
       "      <td>Tidak</td>\n",
       "      <td>3</td>\n",
       "      <td>Tidak pernah</td>\n",
       "      <td>Tidak</td>\n",
       "      <td>NaN</td>\n",
       "      <td>Offline</td>\n",
       "      <td>Mobile (Handphone)</td>\n",
       "      <td>Headset</td>\n",
       "      <td>Brand;Kualitas;Harga</td>\n",
       "      <td>Tidak</td>\n",
       "      <td>Gak tau om</td>\n",
       "      <td>Tidak</td>\n",
       "      <td>Web Based</td>\n",
       "      <td>6</td>\n",
       "      <td>Saran ni om</td>\n",
       "    </tr>\n",
       "    <tr>\n",
       "      <th>4</th>\n",
       "      <td>2024/09/20 12:05:48 AM GMT+7</td>\n",
       "      <td>11-20</td>\n",
       "      <td>Ya</td>\n",
       "      <td>Ya</td>\n",
       "      <td>6</td>\n",
       "      <td>Kadang-kadang</td>\n",
       "      <td>Ya</td>\n",
       "      <td>Kualitas;Keaslian Produk</td>\n",
       "      <td>Online</td>\n",
       "      <td>Laptop;Mobile (Handphone)</td>\n",
       "      <td>Keyboard;Mouse;Headset;Accessories (Mouse Pad,...</td>\n",
       "      <td>Brand;Kualitas;Harga</td>\n",
       "      <td>Ya</td>\n",
       "      <td>Forum;Rekomendasi berbasis AI;Live Chat</td>\n",
       "      <td>Ya</td>\n",
       "      <td>Mobile Apps</td>\n",
       "      <td>6</td>\n",
       "      <td>Sejauh ini sudah cukup.</td>\n",
       "    </tr>\n",
       "    <tr>\n",
       "      <th>5</th>\n",
       "      <td>2024/09/20 8:45:47 AM GMT+7</td>\n",
       "      <td>11-20</td>\n",
       "      <td>Ya</td>\n",
       "      <td>Ya</td>\n",
       "      <td>6</td>\n",
       "      <td>Jarang</td>\n",
       "      <td>Ya</td>\n",
       "      <td>Harga;Kualitas;Keaslian Produk</td>\n",
       "      <td>Offline</td>\n",
       "      <td>Personal Computer (PC);Laptop;Mobile (Handphone)</td>\n",
       "      <td>Keyboard;Mouse;Headset;Accessories (Mouse Pad,...</td>\n",
       "      <td>Kualitas</td>\n",
       "      <td>Tidak</td>\n",
       "      <td>Forum</td>\n",
       "      <td>Ya</td>\n",
       "      <td>Web Based</td>\n",
       "      <td>6</td>\n",
       "      <td>NaN</td>\n",
       "    </tr>\n",
       "    <tr>\n",
       "      <th>6</th>\n",
       "      <td>2024/09/20 8:51:17 AM GMT+7</td>\n",
       "      <td>11-20</td>\n",
       "      <td>Ya</td>\n",
       "      <td>Ya</td>\n",
       "      <td>5</td>\n",
       "      <td>Kadang-kadang</td>\n",
       "      <td>Ya</td>\n",
       "      <td>Harga;Kualitas;Keaslian Produk</td>\n",
       "      <td>Offline</td>\n",
       "      <td>Laptop;Mobile (Handphone)</td>\n",
       "      <td>Keyboard;Mouse;Controller</td>\n",
       "      <td>Warna;Brand;Kualitas;Harga</td>\n",
       "      <td>Ya</td>\n",
       "      <td>Forum;Rekomendasi berbasis AI</td>\n",
       "      <td>Ya</td>\n",
       "      <td>Mobile Apps</td>\n",
       "      <td>5</td>\n",
       "      <td>Nope</td>\n",
       "    </tr>\n",
       "    <tr>\n",
       "      <th>7</th>\n",
       "      <td>2024/09/20 10:15:55 AM GMT+7</td>\n",
       "      <td>11-20</td>\n",
       "      <td>Tidak</td>\n",
       "      <td>Ya</td>\n",
       "      <td>5</td>\n",
       "      <td>Jarang</td>\n",
       "      <td>Tidak</td>\n",
       "      <td>NaN</td>\n",
       "      <td>Online</td>\n",
       "      <td>Laptop</td>\n",
       "      <td>Keyboard;Headset</td>\n",
       "      <td>Kualitas;Harga</td>\n",
       "      <td>Ya</td>\n",
       "      <td>Forum;Rekomendasi berbasis AI</td>\n",
       "      <td>Ya</td>\n",
       "      <td>Web Based</td>\n",
       "      <td>4</td>\n",
       "      <td>blom ada bg</td>\n",
       "    </tr>\n",
       "    <tr>\n",
       "      <th>8</th>\n",
       "      <td>2024/09/20 12:42:12 PM GMT+7</td>\n",
       "      <td>11-20</td>\n",
       "      <td>Ya</td>\n",
       "      <td>Ya</td>\n",
       "      <td>5</td>\n",
       "      <td>Kadang-kadang</td>\n",
       "      <td>Ya</td>\n",
       "      <td>Keaslian Produk</td>\n",
       "      <td>Online</td>\n",
       "      <td>Personal Computer (PC);Mobile (Handphone)</td>\n",
       "      <td>Mouse;Headset</td>\n",
       "      <td>Kualitas</td>\n",
       "      <td>Ya</td>\n",
       "      <td>Forum</td>\n",
       "      <td>Ya</td>\n",
       "      <td>Mobile Apps</td>\n",
       "      <td>5</td>\n",
       "      <td>Harus menyediakan kelengkapan produk serta kea...</td>\n",
       "    </tr>\n",
       "    <tr>\n",
       "      <th>9</th>\n",
       "      <td>2024/09/21 8:41:16 PM GMT+7</td>\n",
       "      <td>11-20</td>\n",
       "      <td>Ya</td>\n",
       "      <td>Ya</td>\n",
       "      <td>6</td>\n",
       "      <td>Jarang</td>\n",
       "      <td>Ya</td>\n",
       "      <td>Harga;Kualitas</td>\n",
       "      <td>Online</td>\n",
       "      <td>Laptop</td>\n",
       "      <td>Mouse;Accessories (Mouse Pad, Cover Keyboard)</td>\n",
       "      <td>Brand;Kualitas;Harga</td>\n",
       "      <td>Ya</td>\n",
       "      <td>Forum;Rekomendasi berbasis AI;Live Chat</td>\n",
       "      <td>Ya</td>\n",
       "      <td>Web Based</td>\n",
       "      <td>5</td>\n",
       "      <td>NaN</td>\n",
       "    </tr>\n",
       "    <tr>\n",
       "      <th>10</th>\n",
       "      <td>2024/09/21 8:58:13 PM GMT+7</td>\n",
       "      <td>21-30</td>\n",
       "      <td>Ya</td>\n",
       "      <td>Ya</td>\n",
       "      <td>6</td>\n",
       "      <td>Jarang</td>\n",
       "      <td>Tidak</td>\n",
       "      <td>NaN</td>\n",
       "      <td>Online</td>\n",
       "      <td>Laptop</td>\n",
       "      <td>Headset</td>\n",
       "      <td>Warna</td>\n",
       "      <td>Ya</td>\n",
       "      <td>Rekomendasi berbasis AI</td>\n",
       "      <td>Tidak</td>\n",
       "      <td>Mobile Apps</td>\n",
       "      <td>5</td>\n",
       "      <td>-</td>\n",
       "    </tr>\n",
       "    <tr>\n",
       "      <th>11</th>\n",
       "      <td>2024/09/21 9:02:36 PM GMT+7</td>\n",
       "      <td>11-20</td>\n",
       "      <td>Ya</td>\n",
       "      <td>Ya</td>\n",
       "      <td>5</td>\n",
       "      <td>Kadang-kadang</td>\n",
       "      <td>Ya</td>\n",
       "      <td>Kualitas;Keaslian Produk</td>\n",
       "      <td>Online</td>\n",
       "      <td>Laptop;Mobile (Handphone)</td>\n",
       "      <td>Mouse;Headset</td>\n",
       "      <td>Brand;Kualitas</td>\n",
       "      <td>Ya</td>\n",
       "      <td>Forum;Rekomendasi berbasis AI</td>\n",
       "      <td>Ya</td>\n",
       "      <td>Mobile Apps</td>\n",
       "      <td>5</td>\n",
       "      <td>Cukup</td>\n",
       "    </tr>\n",
       "    <tr>\n",
       "      <th>12</th>\n",
       "      <td>2024/09/21 9:04:35 PM GMT+7</td>\n",
       "      <td>11-20</td>\n",
       "      <td>Ya</td>\n",
       "      <td>Tidak</td>\n",
       "      <td>4</td>\n",
       "      <td>Kadang-kadang</td>\n",
       "      <td>Tidak</td>\n",
       "      <td>NaN</td>\n",
       "      <td>Offline</td>\n",
       "      <td>Mobile (Handphone)</td>\n",
       "      <td>Mouse;Headset</td>\n",
       "      <td>Warna;Brand;Kualitas</td>\n",
       "      <td>Ya</td>\n",
       "      <td>Forum;Rekomendasi berbasis AI;Live Chat</td>\n",
       "      <td>Tidak</td>\n",
       "      <td>Mobile Apps</td>\n",
       "      <td>6</td>\n",
       "      <td>ang ang ang ang ang</td>\n",
       "    </tr>\n",
       "    <tr>\n",
       "      <th>13</th>\n",
       "      <td>2024/09/21 9:05:55 PM GMT+7</td>\n",
       "      <td>11-20</td>\n",
       "      <td>Ya</td>\n",
       "      <td>Ya</td>\n",
       "      <td>6</td>\n",
       "      <td>Jarang</td>\n",
       "      <td>Tidak</td>\n",
       "      <td>NaN</td>\n",
       "      <td>Online</td>\n",
       "      <td>Laptop;Mobile (Handphone)</td>\n",
       "      <td>Keyboard;Mouse;Headset</td>\n",
       "      <td>Kualitas;Harga</td>\n",
       "      <td>Ya</td>\n",
       "      <td>Forum;Rekomendasi berbasis AI;Live Chat</td>\n",
       "      <td>Ya</td>\n",
       "      <td>Mobile Apps</td>\n",
       "      <td>6</td>\n",
       "      <td>NaN</td>\n",
       "    </tr>\n",
       "    <tr>\n",
       "      <th>14</th>\n",
       "      <td>2024/09/21 9:10:27 PM GMT+7</td>\n",
       "      <td>21-30</td>\n",
       "      <td>Ya</td>\n",
       "      <td>Ya</td>\n",
       "      <td>5</td>\n",
       "      <td>Jarang</td>\n",
       "      <td>Ya</td>\n",
       "      <td>Harga;Kualitas;Keaslian Produk</td>\n",
       "      <td>Offline</td>\n",
       "      <td>Personal Computer (PC);Mobile (Handphone)</td>\n",
       "      <td>Mouse;Accessories (Mouse Pad, Cover Keyboard)</td>\n",
       "      <td>Brand;Kualitas;Harga</td>\n",
       "      <td>Ya</td>\n",
       "      <td>Forum;Rekomendasi berbasis AI</td>\n",
       "      <td>Tidak</td>\n",
       "      <td>Mobile Apps</td>\n",
       "      <td>6</td>\n",
       "      <td>NaN</td>\n",
       "    </tr>\n",
       "    <tr>\n",
       "      <th>15</th>\n",
       "      <td>2024/09/21 11:06:15 PM GMT+7</td>\n",
       "      <td>21-30</td>\n",
       "      <td>Ya</td>\n",
       "      <td>Ya</td>\n",
       "      <td>5</td>\n",
       "      <td>Jarang</td>\n",
       "      <td>Tidak</td>\n",
       "      <td>NaN</td>\n",
       "      <td>Online</td>\n",
       "      <td>Mobile (Handphone)</td>\n",
       "      <td>Headset</td>\n",
       "      <td>Kualitas</td>\n",
       "      <td>Ya</td>\n",
       "      <td>Live Chat</td>\n",
       "      <td>Tidak</td>\n",
       "      <td>Mobile Apps</td>\n",
       "      <td>6</td>\n",
       "      <td>NaN</td>\n",
       "    </tr>\n",
       "    <tr>\n",
       "      <th>16</th>\n",
       "      <td>2024/09/22 4:23:03 PM GMT+7</td>\n",
       "      <td>11-20</td>\n",
       "      <td>Ya</td>\n",
       "      <td>Ya</td>\n",
       "      <td>5</td>\n",
       "      <td>Jarang</td>\n",
       "      <td>Ya</td>\n",
       "      <td>Harga;Kualitas;Stock;Keaslian Produk</td>\n",
       "      <td>Offline</td>\n",
       "      <td>Laptop</td>\n",
       "      <td>Headset</td>\n",
       "      <td>Warna</td>\n",
       "      <td>Ya</td>\n",
       "      <td>Live Chat</td>\n",
       "      <td>Ya</td>\n",
       "      <td>Mobile Apps</td>\n",
       "      <td>6</td>\n",
       "      <td>NaN</td>\n",
       "    </tr>\n",
       "    <tr>\n",
       "      <th>17</th>\n",
       "      <td>2024/09/22 9:01:56 PM GMT+7</td>\n",
       "      <td>11-20</td>\n",
       "      <td>Ya</td>\n",
       "      <td>Ya</td>\n",
       "      <td>5</td>\n",
       "      <td>Sering</td>\n",
       "      <td>Ya</td>\n",
       "      <td>Harga;Kualitas</td>\n",
       "      <td>Online</td>\n",
       "      <td>Personal Computer (PC);Laptop;Console (Xbox, P...</td>\n",
       "      <td>Keyboard;Mouse;Headset</td>\n",
       "      <td>Brand;Kualitas;Harga</td>\n",
       "      <td>Ya</td>\n",
       "      <td>Forum;Rekomendasi berbasis AI</td>\n",
       "      <td>Ya</td>\n",
       "      <td>Web Based</td>\n",
       "      <td>6</td>\n",
       "      <td>NaN</td>\n",
       "    </tr>\n",
       "    <tr>\n",
       "      <th>18</th>\n",
       "      <td>2024/09/22 9:03:03 PM GMT+7</td>\n",
       "      <td>11-20</td>\n",
       "      <td>Ya</td>\n",
       "      <td>Ya</td>\n",
       "      <td>6</td>\n",
       "      <td>Jarang</td>\n",
       "      <td>Tidak</td>\n",
       "      <td>NaN</td>\n",
       "      <td>Offline</td>\n",
       "      <td>Personal Computer (PC)</td>\n",
       "      <td>Mouse</td>\n",
       "      <td>Kualitas</td>\n",
       "      <td>Ya</td>\n",
       "      <td>Forum</td>\n",
       "      <td>Ya</td>\n",
       "      <td>Web Based</td>\n",
       "      <td>6</td>\n",
       "      <td>-</td>\n",
       "    </tr>\n",
       "    <tr>\n",
       "      <th>19</th>\n",
       "      <td>2024/09/22 9:03:29 PM GMT+7</td>\n",
       "      <td>11-20</td>\n",
       "      <td>Ya</td>\n",
       "      <td>Ya</td>\n",
       "      <td>3</td>\n",
       "      <td>Jarang</td>\n",
       "      <td>Ya</td>\n",
       "      <td>Harga</td>\n",
       "      <td>Online</td>\n",
       "      <td>Personal Computer (PC)</td>\n",
       "      <td>Accessories (Mouse Pad, Cover Keyboard)</td>\n",
       "      <td>Kualitas</td>\n",
       "      <td>Tidak</td>\n",
       "      <td>Rekomendasi berbasis AI;Live Chat</td>\n",
       "      <td>Ya</td>\n",
       "      <td>Web Based</td>\n",
       "      <td>6</td>\n",
       "      <td>NaN</td>\n",
       "    </tr>\n",
       "    <tr>\n",
       "      <th>20</th>\n",
       "      <td>2024/09/22 9:07:36 PM GMT+7</td>\n",
       "      <td>11-20</td>\n",
       "      <td>Ya</td>\n",
       "      <td>Ya</td>\n",
       "      <td>5</td>\n",
       "      <td>Kadang-kadang</td>\n",
       "      <td>Ya</td>\n",
       "      <td>Keaslian Produk</td>\n",
       "      <td>Online</td>\n",
       "      <td>Personal Computer (PC);Laptop</td>\n",
       "      <td>Keyboard;Mouse</td>\n",
       "      <td>Brand;Kualitas</td>\n",
       "      <td>Ya</td>\n",
       "      <td>Rekomendasi berbasis AI</td>\n",
       "      <td>Ya</td>\n",
       "      <td>Web Based</td>\n",
       "      <td>5</td>\n",
       "      <td>NaN</td>\n",
       "    </tr>\n",
       "    <tr>\n",
       "      <th>21</th>\n",
       "      <td>2024/09/22 9:11:18 PM GMT+7</td>\n",
       "      <td>11-20</td>\n",
       "      <td>Ya</td>\n",
       "      <td>Ya</td>\n",
       "      <td>5</td>\n",
       "      <td>Kadang-kadang</td>\n",
       "      <td>Ya</td>\n",
       "      <td>Harga;Keaslian Produk;Contoh Produk</td>\n",
       "      <td>Online</td>\n",
       "      <td>Laptop;Mobile (Handphone)</td>\n",
       "      <td>Keyboard;Mouse;Headset;Controller</td>\n",
       "      <td>Brand;Gambar;Kualitas;Harga</td>\n",
       "      <td>Ya</td>\n",
       "      <td>Forum;Rekomendasi berbasis AI</td>\n",
       "      <td>Ya</td>\n",
       "      <td>Web Based</td>\n",
       "      <td>6</td>\n",
       "      <td>NaN</td>\n",
       "    </tr>\n",
       "    <tr>\n",
       "      <th>22</th>\n",
       "      <td>2024/09/22 9:39:45 PM GMT+7</td>\n",
       "      <td>11-20</td>\n",
       "      <td>Ya</td>\n",
       "      <td>Ya</td>\n",
       "      <td>4</td>\n",
       "      <td>Kadang-kadang</td>\n",
       "      <td>Ya</td>\n",
       "      <td>Kualitas</td>\n",
       "      <td>Online</td>\n",
       "      <td>Personal Computer (PC);Laptop;Mobile (Handphone)</td>\n",
       "      <td>Mouse;Headset;Controller;Accessories (Mouse Pa...</td>\n",
       "      <td>Kualitas</td>\n",
       "      <td>Ya</td>\n",
       "      <td>Rekomendasi berbasis AI</td>\n",
       "      <td>Tidak</td>\n",
       "      <td>Web Based</td>\n",
       "      <td>6</td>\n",
       "      <td>NaN</td>\n",
       "    </tr>\n",
       "  </tbody>\n",
       "</table>\n",
       "</div>"
      ],
      "text/plain": [
       "                       Timestamp Berapa usia anda sekarang?  \\\n",
       "0   2024/09/19 11:33:26 PM GMT+7                      11-20   \n",
       "1   2024/09/19 11:33:27 PM GMT+7                      11-20   \n",
       "2   2024/09/19 11:42:13 PM GMT+7                      21-30   \n",
       "3   2024/09/19 11:48:56 PM GMT+7                      11-20   \n",
       "4   2024/09/20 12:05:48 AM GMT+7                      11-20   \n",
       "5    2024/09/20 8:45:47 AM GMT+7                      11-20   \n",
       "6    2024/09/20 8:51:17 AM GMT+7                      11-20   \n",
       "7   2024/09/20 10:15:55 AM GMT+7                      11-20   \n",
       "8   2024/09/20 12:42:12 PM GMT+7                      11-20   \n",
       "9    2024/09/21 8:41:16 PM GMT+7                      11-20   \n",
       "10   2024/09/21 8:58:13 PM GMT+7                      21-30   \n",
       "11   2024/09/21 9:02:36 PM GMT+7                      11-20   \n",
       "12   2024/09/21 9:04:35 PM GMT+7                      11-20   \n",
       "13   2024/09/21 9:05:55 PM GMT+7                      11-20   \n",
       "14   2024/09/21 9:10:27 PM GMT+7                      21-30   \n",
       "15  2024/09/21 11:06:15 PM GMT+7                      21-30   \n",
       "16   2024/09/22 4:23:03 PM GMT+7                      11-20   \n",
       "17   2024/09/22 9:01:56 PM GMT+7                      11-20   \n",
       "18   2024/09/22 9:03:03 PM GMT+7                      11-20   \n",
       "19   2024/09/22 9:03:29 PM GMT+7                      11-20   \n",
       "20   2024/09/22 9:07:36 PM GMT+7                      11-20   \n",
       "21   2024/09/22 9:11:18 PM GMT+7                      11-20   \n",
       "22   2024/09/22 9:39:45 PM GMT+7                      11-20   \n",
       "\n",
       "   Apakah anda masih memiliki ketertarikan di bidang game?  \\\n",
       "0                                                  Ya        \n",
       "1                                                  Ya        \n",
       "2                                                  Ya        \n",
       "3                                                  Ya        \n",
       "4                                                  Ya        \n",
       "5                                                  Ya        \n",
       "6                                                  Ya        \n",
       "7                                               Tidak        \n",
       "8                                                  Ya        \n",
       "9                                                  Ya        \n",
       "10                                                 Ya        \n",
       "11                                                 Ya        \n",
       "12                                                 Ya        \n",
       "13                                                 Ya        \n",
       "14                                                 Ya        \n",
       "15                                                 Ya        \n",
       "16                                                 Ya        \n",
       "17                                                 Ya        \n",
       "18                                                 Ya        \n",
       "19                                                 Ya        \n",
       "20                                                 Ya        \n",
       "21                                                 Ya        \n",
       "22                                                 Ya        \n",
       "\n",
       "   Apakah menurut anda gaming gear penting dalam bermain game (Keyboard, Headset, Mouse, dll)  \\\n",
       "0                                                  Ya                                           \n",
       "1                                                  Ya                                           \n",
       "2                                                  Ya                                           \n",
       "3                                               Tidak                                           \n",
       "4                                                  Ya                                           \n",
       "5                                                  Ya                                           \n",
       "6                                                  Ya                                           \n",
       "7                                                  Ya                                           \n",
       "8                                                  Ya                                           \n",
       "9                                                  Ya                                           \n",
       "10                                                 Ya                                           \n",
       "11                                                 Ya                                           \n",
       "12                                              Tidak                                           \n",
       "13                                                 Ya                                           \n",
       "14                                                 Ya                                           \n",
       "15                                                 Ya                                           \n",
       "16                                                 Ya                                           \n",
       "17                                                 Ya                                           \n",
       "18                                                 Ya                                           \n",
       "19                                                 Ya                                           \n",
       "20                                                 Ya                                           \n",
       "21                                                 Ya                                           \n",
       "22                                                 Ya                                           \n",
       "\n",
       "    Menurut anda seberapa penting gaming gear dalam bermain game?  \\\n",
       "0                                                   4               \n",
       "1                                                   5               \n",
       "2                                                   6               \n",
       "3                                                   3               \n",
       "4                                                   6               \n",
       "5                                                   6               \n",
       "6                                                   5               \n",
       "7                                                   5               \n",
       "8                                                   5               \n",
       "9                                                   6               \n",
       "10                                                  6               \n",
       "11                                                  5               \n",
       "12                                                  4               \n",
       "13                                                  6               \n",
       "14                                                  5               \n",
       "15                                                  5               \n",
       "16                                                  5               \n",
       "17                                                  5               \n",
       "18                                                  6               \n",
       "19                                                  3               \n",
       "20                                                  5               \n",
       "21                                                  5               \n",
       "22                                                  4               \n",
       "\n",
       "   Seberapa sering Anda berbelanja online untuk gaming gear?    \\\n",
       "0                                              Jarang            \n",
       "1                                       Kadang-kadang            \n",
       "2                                       Kadang-kadang            \n",
       "3                                        Tidak pernah            \n",
       "4                                       Kadang-kadang            \n",
       "5                                              Jarang            \n",
       "6                                       Kadang-kadang            \n",
       "7                                              Jarang            \n",
       "8                                       Kadang-kadang            \n",
       "9                                              Jarang            \n",
       "10                                             Jarang            \n",
       "11                                      Kadang-kadang            \n",
       "12                                      Kadang-kadang            \n",
       "13                                             Jarang            \n",
       "14                                             Jarang            \n",
       "15                                             Jarang            \n",
       "16                                             Jarang            \n",
       "17                                             Sering            \n",
       "18                                             Jarang            \n",
       "19                                             Jarang            \n",
       "20                                      Kadang-kadang            \n",
       "21                                      Kadang-kadang            \n",
       "22                                      Kadang-kadang            \n",
       "\n",
       "   Apakah anda pernah mengalami kesulitan saat mencari gaming gear sesuai kebutuhan anda  \\\n",
       "0                                               Tidak                                      \n",
       "1                                                  Ya                                      \n",
       "2                                                  Ya                                      \n",
       "3                                               Tidak                                      \n",
       "4                                                  Ya                                      \n",
       "5                                                  Ya                                      \n",
       "6                                                  Ya                                      \n",
       "7                                               Tidak                                      \n",
       "8                                                  Ya                                      \n",
       "9                                                  Ya                                      \n",
       "10                                              Tidak                                      \n",
       "11                                                 Ya                                      \n",
       "12                                              Tidak                                      \n",
       "13                                              Tidak                                      \n",
       "14                                                 Ya                                      \n",
       "15                                              Tidak                                      \n",
       "16                                                 Ya                                      \n",
       "17                                                 Ya                                      \n",
       "18                                              Tidak                                      \n",
       "19                                                 Ya                                      \n",
       "20                                                 Ya                                      \n",
       "21                                                 Ya                                      \n",
       "22                                                 Ya                                      \n",
       "\n",
       "   Menurut anda jika iya, apa alasan anda kesulitan dalam mencari gaming gear?  \\\n",
       "0                                                 NaN                            \n",
       "1                      Harga;Kualitas;Keaslian Produk                            \n",
       "2   Harga;Kualitas;Stock;Keaslian Produk;Contoh Pr...                            \n",
       "3                                                 NaN                            \n",
       "4                            Kualitas;Keaslian Produk                            \n",
       "5                      Harga;Kualitas;Keaslian Produk                            \n",
       "6                      Harga;Kualitas;Keaslian Produk                            \n",
       "7                                                 NaN                            \n",
       "8                                     Keaslian Produk                            \n",
       "9                                      Harga;Kualitas                            \n",
       "10                                                NaN                            \n",
       "11                           Kualitas;Keaslian Produk                            \n",
       "12                                                NaN                            \n",
       "13                                                NaN                            \n",
       "14                     Harga;Kualitas;Keaslian Produk                            \n",
       "15                                                NaN                            \n",
       "16               Harga;Kualitas;Stock;Keaslian Produk                            \n",
       "17                                     Harga;Kualitas                            \n",
       "18                                                NaN                            \n",
       "19                                              Harga                            \n",
       "20                                    Keaslian Produk                            \n",
       "21                Harga;Keaslian Produk;Contoh Produk                            \n",
       "22                                           Kualitas                            \n",
       "\n",
       "   Apakah anda memilih berbelanja gaming gear secara online atau offline (tatap muka)  \\\n",
       "0                                              Online                                   \n",
       "1                                              Online                                   \n",
       "2                                             Offline                                   \n",
       "3                                             Offline                                   \n",
       "4                                              Online                                   \n",
       "5                                             Offline                                   \n",
       "6                                             Offline                                   \n",
       "7                                              Online                                   \n",
       "8                                              Online                                   \n",
       "9                                              Online                                   \n",
       "10                                             Online                                   \n",
       "11                                             Online                                   \n",
       "12                                            Offline                                   \n",
       "13                                             Online                                   \n",
       "14                                            Offline                                   \n",
       "15                                             Online                                   \n",
       "16                                            Offline                                   \n",
       "17                                             Online                                   \n",
       "18                                            Offline                                   \n",
       "19                                             Online                                   \n",
       "20                                             Online                                   \n",
       "21                                             Online                                   \n",
       "22                                             Online                                   \n",
       "\n",
       "        Platform gaming yang paling sering digunakan?  \\\n",
       "0   Personal Computer (PC);Laptop;Console (Xbox, P...   \n",
       "1                              Personal Computer (PC)   \n",
       "2                           Laptop;Mobile (Handphone)   \n",
       "3                                  Mobile (Handphone)   \n",
       "4                           Laptop;Mobile (Handphone)   \n",
       "5    Personal Computer (PC);Laptop;Mobile (Handphone)   \n",
       "6                           Laptop;Mobile (Handphone)   \n",
       "7                                              Laptop   \n",
       "8           Personal Computer (PC);Mobile (Handphone)   \n",
       "9                                              Laptop   \n",
       "10                                             Laptop   \n",
       "11                          Laptop;Mobile (Handphone)   \n",
       "12                                 Mobile (Handphone)   \n",
       "13                          Laptop;Mobile (Handphone)   \n",
       "14          Personal Computer (PC);Mobile (Handphone)   \n",
       "15                                 Mobile (Handphone)   \n",
       "16                                             Laptop   \n",
       "17  Personal Computer (PC);Laptop;Console (Xbox, P...   \n",
       "18                             Personal Computer (PC)   \n",
       "19                             Personal Computer (PC)   \n",
       "20                      Personal Computer (PC);Laptop   \n",
       "21                          Laptop;Mobile (Handphone)   \n",
       "22   Personal Computer (PC);Laptop;Mobile (Handphone)   \n",
       "\n",
       "      Jenis gaming gear yang paling sering anda beli?  \\\n",
       "0                                    Mouse;Controller   \n",
       "1   Keyboard;Mouse;Accessories (Mouse Pad, Cover K...   \n",
       "2   Keyboard;Mouse;Headset;Accessories (Mouse Pad,...   \n",
       "3                                             Headset   \n",
       "4   Keyboard;Mouse;Headset;Accessories (Mouse Pad,...   \n",
       "5   Keyboard;Mouse;Headset;Accessories (Mouse Pad,...   \n",
       "6                           Keyboard;Mouse;Controller   \n",
       "7                                    Keyboard;Headset   \n",
       "8                                       Mouse;Headset   \n",
       "9       Mouse;Accessories (Mouse Pad, Cover Keyboard)   \n",
       "10                                            Headset   \n",
       "11                                      Mouse;Headset   \n",
       "12                                      Mouse;Headset   \n",
       "13                             Keyboard;Mouse;Headset   \n",
       "14      Mouse;Accessories (Mouse Pad, Cover Keyboard)   \n",
       "15                                            Headset   \n",
       "16                                            Headset   \n",
       "17                             Keyboard;Mouse;Headset   \n",
       "18                                              Mouse   \n",
       "19            Accessories (Mouse Pad, Cover Keyboard)   \n",
       "20                                     Keyboard;Mouse   \n",
       "21                  Keyboard;Mouse;Headset;Controller   \n",
       "22  Mouse;Headset;Controller;Accessories (Mouse Pa...   \n",
       "\n",
       "   Apa yang menjadi nilai utama dalam mencari gaming gear?  \\\n",
       "0                                      Kualitas;Harga        \n",
       "1                                      Kualitas;Harga        \n",
       "2                               Gambar;Kualitas;Harga        \n",
       "3                                Brand;Kualitas;Harga        \n",
       "4                                Brand;Kualitas;Harga        \n",
       "5                                            Kualitas        \n",
       "6                          Warna;Brand;Kualitas;Harga        \n",
       "7                                      Kualitas;Harga        \n",
       "8                                            Kualitas        \n",
       "9                                Brand;Kualitas;Harga        \n",
       "10                                              Warna        \n",
       "11                                     Brand;Kualitas        \n",
       "12                               Warna;Brand;Kualitas        \n",
       "13                                     Kualitas;Harga        \n",
       "14                               Brand;Kualitas;Harga        \n",
       "15                                           Kualitas        \n",
       "16                                              Warna        \n",
       "17                               Brand;Kualitas;Harga        \n",
       "18                                           Kualitas        \n",
       "19                                           Kualitas        \n",
       "20                                     Brand;Kualitas        \n",
       "21                        Brand;Gambar;Kualitas;Harga        \n",
       "22                                           Kualitas        \n",
       "\n",
       "   Jika ada aplikasi serupa yang menawarkan solusi permasalahan diatas, apakah anda ingin menggunakannya?  \\\n",
       "0                                                  Ya                                                       \n",
       "1                                                  Ya                                                       \n",
       "2                                                  Ya                                                       \n",
       "3                                               Tidak                                                       \n",
       "4                                                  Ya                                                       \n",
       "5                                               Tidak                                                       \n",
       "6                                                  Ya                                                       \n",
       "7                                                  Ya                                                       \n",
       "8                                                  Ya                                                       \n",
       "9                                                  Ya                                                       \n",
       "10                                                 Ya                                                       \n",
       "11                                                 Ya                                                       \n",
       "12                                                 Ya                                                       \n",
       "13                                                 Ya                                                       \n",
       "14                                                 Ya                                                       \n",
       "15                                                 Ya                                                       \n",
       "16                                                 Ya                                                       \n",
       "17                                                 Ya                                                       \n",
       "18                                                 Ya                                                       \n",
       "19                                              Tidak                                                       \n",
       "20                                                 Ya                                                       \n",
       "21                                                 Ya                                                       \n",
       "22                                                 Ya                                                       \n",
       "\n",
       "   Apa fitur yang anda harapkan dari aplikasi ini?  \\\n",
       "0                                  Forum;Live Chat   \n",
       "1                Rekomendasi berbasis AI;Live Chat   \n",
       "2          Forum;Rekomendasi berbasis AI;Live Chat   \n",
       "3                                       Gak tau om   \n",
       "4          Forum;Rekomendasi berbasis AI;Live Chat   \n",
       "5                                            Forum   \n",
       "6                    Forum;Rekomendasi berbasis AI   \n",
       "7                    Forum;Rekomendasi berbasis AI   \n",
       "8                                            Forum   \n",
       "9          Forum;Rekomendasi berbasis AI;Live Chat   \n",
       "10                         Rekomendasi berbasis AI   \n",
       "11                   Forum;Rekomendasi berbasis AI   \n",
       "12         Forum;Rekomendasi berbasis AI;Live Chat   \n",
       "13         Forum;Rekomendasi berbasis AI;Live Chat   \n",
       "14                   Forum;Rekomendasi berbasis AI   \n",
       "15                                       Live Chat   \n",
       "16                                       Live Chat   \n",
       "17                   Forum;Rekomendasi berbasis AI   \n",
       "18                                           Forum   \n",
       "19               Rekomendasi berbasis AI;Live Chat   \n",
       "20                         Rekomendasi berbasis AI   \n",
       "21                   Forum;Rekomendasi berbasis AI   \n",
       "22                         Rekomendasi berbasis AI   \n",
       "\n",
       "   Apakah Anda bersedia berpartisipasi dalam komunitas online (forum, grup diskusi)?    \\\n",
       "0                                                  Ya                                    \n",
       "1                                                  Ya                                    \n",
       "2                                                  Ya                                    \n",
       "3                                               Tidak                                    \n",
       "4                                                  Ya                                    \n",
       "5                                                  Ya                                    \n",
       "6                                                  Ya                                    \n",
       "7                                                  Ya                                    \n",
       "8                                                  Ya                                    \n",
       "9                                                  Ya                                    \n",
       "10                                              Tidak                                    \n",
       "11                                                 Ya                                    \n",
       "12                                              Tidak                                    \n",
       "13                                                 Ya                                    \n",
       "14                                              Tidak                                    \n",
       "15                                              Tidak                                    \n",
       "16                                                 Ya                                    \n",
       "17                                                 Ya                                    \n",
       "18                                                 Ya                                    \n",
       "19                                                 Ya                                    \n",
       "20                                                 Ya                                    \n",
       "21                                                 Ya                                    \n",
       "22                                              Tidak                                    \n",
       "\n",
       "   Platform mana yang lebih nyaman untuk anda gunakan?  \\\n",
       "0                                           Web Based    \n",
       "1                                         Mobile Apps    \n",
       "2                                           Web Based    \n",
       "3                                           Web Based    \n",
       "4                                         Mobile Apps    \n",
       "5                                           Web Based    \n",
       "6                                         Mobile Apps    \n",
       "7                                           Web Based    \n",
       "8                                         Mobile Apps    \n",
       "9                                           Web Based    \n",
       "10                                        Mobile Apps    \n",
       "11                                        Mobile Apps    \n",
       "12                                        Mobile Apps    \n",
       "13                                        Mobile Apps    \n",
       "14                                        Mobile Apps    \n",
       "15                                        Mobile Apps    \n",
       "16                                        Mobile Apps    \n",
       "17                                          Web Based    \n",
       "18                                          Web Based    \n",
       "19                                          Web Based    \n",
       "20                                          Web Based    \n",
       "21                                          Web Based    \n",
       "22                                          Web Based    \n",
       "\n",
       "    Seberapa penting fitur review bagi anda dalam mengambil keputusan pembelian?  \\\n",
       "0                                                   6                              \n",
       "1                                                   6                              \n",
       "2                                                   6                              \n",
       "3                                                   6                              \n",
       "4                                                   6                              \n",
       "5                                                   6                              \n",
       "6                                                   5                              \n",
       "7                                                   4                              \n",
       "8                                                   5                              \n",
       "9                                                   5                              \n",
       "10                                                  5                              \n",
       "11                                                  5                              \n",
       "12                                                  6                              \n",
       "13                                                  6                              \n",
       "14                                                  6                              \n",
       "15                                                  6                              \n",
       "16                                                  6                              \n",
       "17                                                  6                              \n",
       "18                                                  6                              \n",
       "19                                                  6                              \n",
       "20                                                  5                              \n",
       "21                                                  6                              \n",
       "22                                                  6                              \n",
       "\n",
       "    Apakah ada saran atau masukan bagi aplikasi kami?  \n",
       "0                              Keep up the good work.  \n",
       "1                                                 NaN  \n",
       "2                                           Tidak ada  \n",
       "3                                         Saran ni om  \n",
       "4                             Sejauh ini sudah cukup.  \n",
       "5                                                 NaN  \n",
       "6                                                Nope  \n",
       "7                                         blom ada bg  \n",
       "8   Harus menyediakan kelengkapan produk serta kea...  \n",
       "9                                                 NaN  \n",
       "10                                                  -  \n",
       "11                                              Cukup  \n",
       "12                                ang ang ang ang ang  \n",
       "13                                                NaN  \n",
       "14                                                NaN  \n",
       "15                                                NaN  \n",
       "16                                                NaN  \n",
       "17                                                NaN  \n",
       "18                                                  -  \n",
       "19                                                NaN  \n",
       "20                                                NaN  \n",
       "21                                                NaN  \n",
       "22                                                NaN  "
      ]
     },
     "execution_count": 5,
     "metadata": {},
     "output_type": "execute_result"
    }
   ],
   "source": [
    "data = pd.read_csv('BeeMarket.csv')\n",
    "data"
   ]
  },
  {
   "cell_type": "code",
   "execution_count": 8,
   "metadata": {},
   "outputs": [
    {
     "data": {
      "application/vnd.plotly.v1+json": {
       "config": {
        "plotlyServerURL": "https://plot.ly"
       },
       "data": [
        {
         "customdata": [
          [
           "11-20"
          ],
          [
           "11-20"
          ],
          [
           "21-30"
          ],
          [
           "11-20"
          ],
          [
           "11-20"
          ],
          [
           "11-20"
          ],
          [
           "11-20"
          ],
          [
           "11-20"
          ],
          [
           "11-20"
          ],
          [
           "11-20"
          ],
          [
           "21-30"
          ],
          [
           "11-20"
          ],
          [
           "11-20"
          ],
          [
           "11-20"
          ],
          [
           "21-30"
          ],
          [
           "21-30"
          ],
          [
           "11-20"
          ],
          [
           "11-20"
          ],
          [
           "11-20"
          ],
          [
           "11-20"
          ],
          [
           "11-20"
          ],
          [
           "11-20"
          ],
          [
           "11-20"
          ]
         ],
         "domain": {
          "x": [
           0,
           1
          ],
          "y": [
           0,
           1
          ]
         },
         "hovertemplate": "Berapa usia anda sekarang?=%{customdata[0]}<extra></extra>",
         "labels": [
          "11-20",
          "11-20",
          "21-30",
          "11-20",
          "11-20",
          "11-20",
          "11-20",
          "11-20",
          "11-20",
          "11-20",
          "21-30",
          "11-20",
          "11-20",
          "11-20",
          "21-30",
          "21-30",
          "11-20",
          "11-20",
          "11-20",
          "11-20",
          "11-20",
          "11-20",
          "11-20"
         ],
         "legendgroup": "",
         "marker": {
          "line": {
           "color": "#000000",
           "width": 2
          }
         },
         "name": "",
         "pull": [
          0,
          0,
          0,
          0,
          0,
          0,
          0,
          0,
          0,
          0,
          0,
          0,
          0,
          0,
          0,
          0,
          0,
          0,
          0,
          0,
          0,
          0,
          0
         ],
         "showlegend": true,
         "textinfo": "percent+label",
         "type": "pie"
        }
       ],
       "layout": {
        "font": {
         "color": "darkblue",
         "family": "Atial",
         "size": 14
        },
        "legend": {
         "title": {
          "text": "Class Categories"
         },
         "tracegroupgap": 0
        },
        "margin": {
         "b": 50,
         "l": 50,
         "r": 50,
         "t": 50
        },
        "piecolorway": [
         "#636EFA",
         "#EF553B",
         "#00CC96",
         "#AB63FA",
         "#FFA15A",
         "#19D3F3",
         "#FF6692",
         "#B6E880",
         "#FF97FF",
         "#FECB52"
        ],
        "template": {
         "data": {
          "bar": [
           {
            "error_x": {
             "color": "#2a3f5f"
            },
            "error_y": {
             "color": "#2a3f5f"
            },
            "marker": {
             "line": {
              "color": "#E5ECF6",
              "width": 0.5
             },
             "pattern": {
              "fillmode": "overlay",
              "size": 10,
              "solidity": 0.2
             }
            },
            "type": "bar"
           }
          ],
          "barpolar": [
           {
            "marker": {
             "line": {
              "color": "#E5ECF6",
              "width": 0.5
             },
             "pattern": {
              "fillmode": "overlay",
              "size": 10,
              "solidity": 0.2
             }
            },
            "type": "barpolar"
           }
          ],
          "carpet": [
           {
            "aaxis": {
             "endlinecolor": "#2a3f5f",
             "gridcolor": "white",
             "linecolor": "white",
             "minorgridcolor": "white",
             "startlinecolor": "#2a3f5f"
            },
            "baxis": {
             "endlinecolor": "#2a3f5f",
             "gridcolor": "white",
             "linecolor": "white",
             "minorgridcolor": "white",
             "startlinecolor": "#2a3f5f"
            },
            "type": "carpet"
           }
          ],
          "choropleth": [
           {
            "colorbar": {
             "outlinewidth": 0,
             "ticks": ""
            },
            "type": "choropleth"
           }
          ],
          "contour": [
           {
            "colorbar": {
             "outlinewidth": 0,
             "ticks": ""
            },
            "colorscale": [
             [
              0,
              "#0d0887"
             ],
             [
              0.1111111111111111,
              "#46039f"
             ],
             [
              0.2222222222222222,
              "#7201a8"
             ],
             [
              0.3333333333333333,
              "#9c179e"
             ],
             [
              0.4444444444444444,
              "#bd3786"
             ],
             [
              0.5555555555555556,
              "#d8576b"
             ],
             [
              0.6666666666666666,
              "#ed7953"
             ],
             [
              0.7777777777777778,
              "#fb9f3a"
             ],
             [
              0.8888888888888888,
              "#fdca26"
             ],
             [
              1,
              "#f0f921"
             ]
            ],
            "type": "contour"
           }
          ],
          "contourcarpet": [
           {
            "colorbar": {
             "outlinewidth": 0,
             "ticks": ""
            },
            "type": "contourcarpet"
           }
          ],
          "heatmap": [
           {
            "colorbar": {
             "outlinewidth": 0,
             "ticks": ""
            },
            "colorscale": [
             [
              0,
              "#0d0887"
             ],
             [
              0.1111111111111111,
              "#46039f"
             ],
             [
              0.2222222222222222,
              "#7201a8"
             ],
             [
              0.3333333333333333,
              "#9c179e"
             ],
             [
              0.4444444444444444,
              "#bd3786"
             ],
             [
              0.5555555555555556,
              "#d8576b"
             ],
             [
              0.6666666666666666,
              "#ed7953"
             ],
             [
              0.7777777777777778,
              "#fb9f3a"
             ],
             [
              0.8888888888888888,
              "#fdca26"
             ],
             [
              1,
              "#f0f921"
             ]
            ],
            "type": "heatmap"
           }
          ],
          "heatmapgl": [
           {
            "colorbar": {
             "outlinewidth": 0,
             "ticks": ""
            },
            "colorscale": [
             [
              0,
              "#0d0887"
             ],
             [
              0.1111111111111111,
              "#46039f"
             ],
             [
              0.2222222222222222,
              "#7201a8"
             ],
             [
              0.3333333333333333,
              "#9c179e"
             ],
             [
              0.4444444444444444,
              "#bd3786"
             ],
             [
              0.5555555555555556,
              "#d8576b"
             ],
             [
              0.6666666666666666,
              "#ed7953"
             ],
             [
              0.7777777777777778,
              "#fb9f3a"
             ],
             [
              0.8888888888888888,
              "#fdca26"
             ],
             [
              1,
              "#f0f921"
             ]
            ],
            "type": "heatmapgl"
           }
          ],
          "histogram": [
           {
            "marker": {
             "pattern": {
              "fillmode": "overlay",
              "size": 10,
              "solidity": 0.2
             }
            },
            "type": "histogram"
           }
          ],
          "histogram2d": [
           {
            "colorbar": {
             "outlinewidth": 0,
             "ticks": ""
            },
            "colorscale": [
             [
              0,
              "#0d0887"
             ],
             [
              0.1111111111111111,
              "#46039f"
             ],
             [
              0.2222222222222222,
              "#7201a8"
             ],
             [
              0.3333333333333333,
              "#9c179e"
             ],
             [
              0.4444444444444444,
              "#bd3786"
             ],
             [
              0.5555555555555556,
              "#d8576b"
             ],
             [
              0.6666666666666666,
              "#ed7953"
             ],
             [
              0.7777777777777778,
              "#fb9f3a"
             ],
             [
              0.8888888888888888,
              "#fdca26"
             ],
             [
              1,
              "#f0f921"
             ]
            ],
            "type": "histogram2d"
           }
          ],
          "histogram2dcontour": [
           {
            "colorbar": {
             "outlinewidth": 0,
             "ticks": ""
            },
            "colorscale": [
             [
              0,
              "#0d0887"
             ],
             [
              0.1111111111111111,
              "#46039f"
             ],
             [
              0.2222222222222222,
              "#7201a8"
             ],
             [
              0.3333333333333333,
              "#9c179e"
             ],
             [
              0.4444444444444444,
              "#bd3786"
             ],
             [
              0.5555555555555556,
              "#d8576b"
             ],
             [
              0.6666666666666666,
              "#ed7953"
             ],
             [
              0.7777777777777778,
              "#fb9f3a"
             ],
             [
              0.8888888888888888,
              "#fdca26"
             ],
             [
              1,
              "#f0f921"
             ]
            ],
            "type": "histogram2dcontour"
           }
          ],
          "mesh3d": [
           {
            "colorbar": {
             "outlinewidth": 0,
             "ticks": ""
            },
            "type": "mesh3d"
           }
          ],
          "parcoords": [
           {
            "line": {
             "colorbar": {
              "outlinewidth": 0,
              "ticks": ""
             }
            },
            "type": "parcoords"
           }
          ],
          "pie": [
           {
            "automargin": true,
            "type": "pie"
           }
          ],
          "scatter": [
           {
            "fillpattern": {
             "fillmode": "overlay",
             "size": 10,
             "solidity": 0.2
            },
            "type": "scatter"
           }
          ],
          "scatter3d": [
           {
            "line": {
             "colorbar": {
              "outlinewidth": 0,
              "ticks": ""
             }
            },
            "marker": {
             "colorbar": {
              "outlinewidth": 0,
              "ticks": ""
             }
            },
            "type": "scatter3d"
           }
          ],
          "scattercarpet": [
           {
            "marker": {
             "colorbar": {
              "outlinewidth": 0,
              "ticks": ""
             }
            },
            "type": "scattercarpet"
           }
          ],
          "scattergeo": [
           {
            "marker": {
             "colorbar": {
              "outlinewidth": 0,
              "ticks": ""
             }
            },
            "type": "scattergeo"
           }
          ],
          "scattergl": [
           {
            "marker": {
             "colorbar": {
              "outlinewidth": 0,
              "ticks": ""
             }
            },
            "type": "scattergl"
           }
          ],
          "scattermapbox": [
           {
            "marker": {
             "colorbar": {
              "outlinewidth": 0,
              "ticks": ""
             }
            },
            "type": "scattermapbox"
           }
          ],
          "scatterpolar": [
           {
            "marker": {
             "colorbar": {
              "outlinewidth": 0,
              "ticks": ""
             }
            },
            "type": "scatterpolar"
           }
          ],
          "scatterpolargl": [
           {
            "marker": {
             "colorbar": {
              "outlinewidth": 0,
              "ticks": ""
             }
            },
            "type": "scatterpolargl"
           }
          ],
          "scatterternary": [
           {
            "marker": {
             "colorbar": {
              "outlinewidth": 0,
              "ticks": ""
             }
            },
            "type": "scatterternary"
           }
          ],
          "surface": [
           {
            "colorbar": {
             "outlinewidth": 0,
             "ticks": ""
            },
            "colorscale": [
             [
              0,
              "#0d0887"
             ],
             [
              0.1111111111111111,
              "#46039f"
             ],
             [
              0.2222222222222222,
              "#7201a8"
             ],
             [
              0.3333333333333333,
              "#9c179e"
             ],
             [
              0.4444444444444444,
              "#bd3786"
             ],
             [
              0.5555555555555556,
              "#d8576b"
             ],
             [
              0.6666666666666666,
              "#ed7953"
             ],
             [
              0.7777777777777778,
              "#fb9f3a"
             ],
             [
              0.8888888888888888,
              "#fdca26"
             ],
             [
              1,
              "#f0f921"
             ]
            ],
            "type": "surface"
           }
          ],
          "table": [
           {
            "cells": {
             "fill": {
              "color": "#EBF0F8"
             },
             "line": {
              "color": "white"
             }
            },
            "header": {
             "fill": {
              "color": "#C8D4E3"
             },
             "line": {
              "color": "white"
             }
            },
            "type": "table"
           }
          ]
         },
         "layout": {
          "annotationdefaults": {
           "arrowcolor": "#2a3f5f",
           "arrowhead": 0,
           "arrowwidth": 1
          },
          "autotypenumbers": "strict",
          "coloraxis": {
           "colorbar": {
            "outlinewidth": 0,
            "ticks": ""
           }
          },
          "colorscale": {
           "diverging": [
            [
             0,
             "#8e0152"
            ],
            [
             0.1,
             "#c51b7d"
            ],
            [
             0.2,
             "#de77ae"
            ],
            [
             0.3,
             "#f1b6da"
            ],
            [
             0.4,
             "#fde0ef"
            ],
            [
             0.5,
             "#f7f7f7"
            ],
            [
             0.6,
             "#e6f5d0"
            ],
            [
             0.7,
             "#b8e186"
            ],
            [
             0.8,
             "#7fbc41"
            ],
            [
             0.9,
             "#4d9221"
            ],
            [
             1,
             "#276419"
            ]
           ],
           "sequential": [
            [
             0,
             "#0d0887"
            ],
            [
             0.1111111111111111,
             "#46039f"
            ],
            [
             0.2222222222222222,
             "#7201a8"
            ],
            [
             0.3333333333333333,
             "#9c179e"
            ],
            [
             0.4444444444444444,
             "#bd3786"
            ],
            [
             0.5555555555555556,
             "#d8576b"
            ],
            [
             0.6666666666666666,
             "#ed7953"
            ],
            [
             0.7777777777777778,
             "#fb9f3a"
            ],
            [
             0.8888888888888888,
             "#fdca26"
            ],
            [
             1,
             "#f0f921"
            ]
           ],
           "sequentialminus": [
            [
             0,
             "#0d0887"
            ],
            [
             0.1111111111111111,
             "#46039f"
            ],
            [
             0.2222222222222222,
             "#7201a8"
            ],
            [
             0.3333333333333333,
             "#9c179e"
            ],
            [
             0.4444444444444444,
             "#bd3786"
            ],
            [
             0.5555555555555556,
             "#d8576b"
            ],
            [
             0.6666666666666666,
             "#ed7953"
            ],
            [
             0.7777777777777778,
             "#fb9f3a"
            ],
            [
             0.8888888888888888,
             "#fdca26"
            ],
            [
             1,
             "#f0f921"
            ]
           ]
          },
          "colorway": [
           "#636efa",
           "#EF553B",
           "#00cc96",
           "#ab63fa",
           "#FFA15A",
           "#19d3f3",
           "#FF6692",
           "#B6E880",
           "#FF97FF",
           "#FECB52"
          ],
          "font": {
           "color": "#2a3f5f"
          },
          "geo": {
           "bgcolor": "white",
           "lakecolor": "white",
           "landcolor": "#E5ECF6",
           "showlakes": true,
           "showland": true,
           "subunitcolor": "white"
          },
          "hoverlabel": {
           "align": "left"
          },
          "hovermode": "closest",
          "mapbox": {
           "style": "light"
          },
          "paper_bgcolor": "white",
          "plot_bgcolor": "#E5ECF6",
          "polar": {
           "angularaxis": {
            "gridcolor": "white",
            "linecolor": "white",
            "ticks": ""
           },
           "bgcolor": "#E5ECF6",
           "radialaxis": {
            "gridcolor": "white",
            "linecolor": "white",
            "ticks": ""
           }
          },
          "scene": {
           "xaxis": {
            "backgroundcolor": "#E5ECF6",
            "gridcolor": "white",
            "gridwidth": 2,
            "linecolor": "white",
            "showbackground": true,
            "ticks": "",
            "zerolinecolor": "white"
           },
           "yaxis": {
            "backgroundcolor": "#E5ECF6",
            "gridcolor": "white",
            "gridwidth": 2,
            "linecolor": "white",
            "showbackground": true,
            "ticks": "",
            "zerolinecolor": "white"
           },
           "zaxis": {
            "backgroundcolor": "#E5ECF6",
            "gridcolor": "white",
            "gridwidth": 2,
            "linecolor": "white",
            "showbackground": true,
            "ticks": "",
            "zerolinecolor": "white"
           }
          },
          "shapedefaults": {
           "line": {
            "color": "#2a3f5f"
           }
          },
          "ternary": {
           "aaxis": {
            "gridcolor": "white",
            "linecolor": "white",
            "ticks": ""
           },
           "baxis": {
            "gridcolor": "white",
            "linecolor": "white",
            "ticks": ""
           },
           "bgcolor": "#E5ECF6",
           "caxis": {
            "gridcolor": "white",
            "linecolor": "white",
            "ticks": ""
           }
          },
          "title": {
           "x": 0.05
          },
          "xaxis": {
           "automargin": true,
           "gridcolor": "white",
           "linecolor": "white",
           "ticks": "",
           "title": {
            "standoff": 15
           },
           "zerolinecolor": "white",
           "zerolinewidth": 2
          },
          "yaxis": {
           "automargin": true,
           "gridcolor": "white",
           "linecolor": "white",
           "ticks": "",
           "title": {
            "standoff": 15
           },
           "zerolinecolor": "white",
           "zerolinewidth": 2
          }
         }
        },
        "title": {
         "font": {
          "size": 24
         },
         "text": "Berapa usia anda sekarang?"
        }
       }
      }
     },
     "metadata": {},
     "output_type": "display_data"
    }
   ],
   "source": [
    "pie = px.pie(data,\n",
    "            'Berapa usia anda sekarang?', \n",
    "            title = 'Berapa usia anda sekarang?',\n",
    "            labels= {'Class': 'Class Label'},\n",
    "            color_discrete_sequence=px.colors.qualitative.Plotly,\n",
    "            hover_data=['Berapa usia anda sekarang?'],)\n",
    "\n",
    "pie.update_traces(textinfo = 'percent+label',\n",
    "                  pull = [0.1 if cls == 'SpecificClass' else 0 for cls in data['Berapa usia anda sekarang?']],\n",
    "                  marker = dict(line=dict(color = '#000000', width = 2)))\n",
    "\n",
    "pie.update_layout(title_font_size = 24,\n",
    "                  legend_title_text = 'Class Categories',\n",
    "                  margin = dict(t = 50, b = 50, l = 50, r = 50),\n",
    "                  font = dict(family = 'Atial', size = 14, color = 'darkblue'))\n",
    "\n",
    "\n",
    "pie.show()"
   ]
  }
 ],
 "metadata": {
  "kernelspec": {
   "display_name": "tensorflowgpu",
   "language": "python",
   "name": "python3"
  },
  "language_info": {
   "codemirror_mode": {
    "name": "ipython",
    "version": 3
   },
   "file_extension": ".py",
   "mimetype": "text/x-python",
   "name": "python",
   "nbconvert_exporter": "python",
   "pygments_lexer": "ipython3",
   "version": "3.10.14"
  }
 },
 "nbformat": 4,
 "nbformat_minor": 2
}
